# Air Quality & Green Cover Analysis (simulated data)
import pandas as pd
import numpy as np
import matplotlib.pyplot as plt
import statsmodels.api as sm
from sklearn.model_selection import train_test_split
from sklearn.linear_model import LinearRegression
from sklearn.metrics import r2_score, mean_squared_error

df = pd.read_csv('aqi_green.csv')
print(df.head())

# Simple EDA
plt.figure(figsize=(8,5))
for city in df['city'].unique():
    sub = df[df['city']==city]
    plt.plot(sub['year'], sub['aqi'], marker='o', label=city)
plt.xlabel('Year'); plt.ylabel('AQI'); plt.title('AQI by city (simulated)'); plt.legend(); plt.show()

# Regression: AQI ~ green_cover_pct + pm25 + population_millions
X = df[['green_cover_pct','pm25','population_millions']]
y = df['aqi']
X_sm = sm.add_constant(X)
model = sm.OLS(y, X_sm).fit()
print(model.summary())

# Train-test split
X_train, X_test, y_train, y_test = train_test_split(X, y, test_size=0.2, random_state=42)
lr = LinearRegression().fit(X_train, y_train)
y_pred = lr.predict(X_test)
print('R2:', r2_score(y_test, y_pred), 'RMSE:', np.sqrt(mean_squared_error(y_test, y_pred)))

# Simple scenario: increase green cover by 5% for all cities in 2022 and predict AQI change using linear model coefficients
coef = model.params
print('\nEstimated coefficients (statsmodels):\n', coef)
sample_2022 = df[df['year']==2022].copy()
sample_2022['green_cover_pct_plus5'] = sample_2022['green_cover_pct'] + 5.0
X_orig = sm.add_constant(sample_2022[['green_cover_pct','pm25','population_millions']])
X_new = sm.add_constant(sample_2022[['green_cover_pct_plus5','pm25','population_millions']].rename(columns={'green_cover_pct_plus5':'green_cover_pct'}))
pred_orig = model.predict(X_orig)
pred_new = model.predict(X_new)
change = (pred_new - pred_orig)
print('\nPredicted AQI reduction after +5% green cover (per city):\n', pd.DataFrame({'city':sample_2022['city'],'aqi_orig':pred_orig,'aqi_new':pred_new,'delta':change}))
with open('aqi_model_results.txt','w') as f:
    f.write('R2_sk: {:.3f}\n'.format(r2_score(y_test, y_pred)))
    f.write('RMSE_sk: {:.3f}\n'.format(np.sqrt(mean_squared_error(y_test, y_pred))))
    f.write('Coefficients:\n'+coef.to_string())

